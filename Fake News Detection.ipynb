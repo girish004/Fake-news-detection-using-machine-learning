{
 "cells": [
  {
   "cell_type": "markdown",
   "id": "d11c2755",
   "metadata": {},
   "source": [
    "## Subject: Social Information NEetworks\n",
    "## Course Code: CSE3021\n",
    "## Team Member1: S Sabhari Girish 19BCE1759\n",
    "## Team Member2: Anthra Devarajan 19BCE1681\n",
    "## Project Name: Fake News Detection in Social Media\n",
    "## J component Review-2\n",
    "## Faculty Name: Dr. Bhuvaneswari Anbalagan"
   ]
  },
  {
   "cell_type": "markdown",
   "id": "2a5f4b60",
   "metadata": {},
   "source": [
    "### Importing the required libraries"
   ]
  },
  {
   "cell_type": "code",
   "execution_count": 20,
   "id": "c3f6b725",
   "metadata": {},
   "outputs": [
    {
     "name": "stderr",
     "output_type": "stream",
     "text": [
      "[nltk_data] Downloading package stopwords to\n",
      "[nltk_data]     C:\\Users\\HP\\AppData\\Roaming\\nltk_data...\n",
      "[nltk_data]   Package stopwords is already up-to-date!\n",
      "[nltk_data] Downloading package wordnet to\n",
      "[nltk_data]     C:\\Users\\HP\\AppData\\Roaming\\nltk_data...\n",
      "[nltk_data]   Package wordnet is already up-to-date!\n"
     ]
    }
   ],
   "source": [
    "import pandas as pd\n",
    "import nltk\n",
    "nltk.download('stopwords')\n",
    "nltk.download('wordnet')\n",
    "from nltk.stem import PorterStemmer\n",
    "from nltk.corpus import stopwords\n",
    "from nltk.stem import WordNetLemmatizer\n",
    "import re\n",
    "import matplotlib.pyplot as plt\n",
    "import seaborn as sns\n",
    "from sklearn.feature_extraction.text import CountVectorizer\n",
    "from sklearn.feature_extraction.text import TfidfVectorizer\n",
    "from sklearn.feature_extraction.text import HashingVectorizer\n",
    "from sklearn.model_selection import train_test_split\n",
    "from sklearn.metrics import confusion_matrix, accuracy_score\n",
    "from sklearn.linear_model import LogisticRegression"
   ]
  },
  {
   "cell_type": "markdown",
   "id": "e9ea793b",
   "metadata": {},
   "source": [
    "### Reading the training file"
   ]
  },
  {
   "cell_type": "code",
   "execution_count": 5,
   "id": "23e5988a",
   "metadata": {},
   "outputs": [
    {
     "data": {
      "text/html": [
       "<div>\n",
       "<style scoped>\n",
       "    .dataframe tbody tr th:only-of-type {\n",
       "        vertical-align: middle;\n",
       "    }\n",
       "\n",
       "    .dataframe tbody tr th {\n",
       "        vertical-align: top;\n",
       "    }\n",
       "\n",
       "    .dataframe thead th {\n",
       "        text-align: right;\n",
       "    }\n",
       "</style>\n",
       "<table border=\"1\" class=\"dataframe\">\n",
       "  <thead>\n",
       "    <tr style=\"text-align: right;\">\n",
       "      <th></th>\n",
       "      <th>id</th>\n",
       "      <th>title</th>\n",
       "      <th>author</th>\n",
       "      <th>text</th>\n",
       "      <th>label</th>\n",
       "    </tr>\n",
       "  </thead>\n",
       "  <tbody>\n",
       "    <tr>\n",
       "      <th>0</th>\n",
       "      <td>0</td>\n",
       "      <td>House Dem Aide: We Didn’t Even See Comey’s Let...</td>\n",
       "      <td>Darrell Lucus</td>\n",
       "      <td>House Dem Aide: We Didn’t Even See Comey’s Let...</td>\n",
       "      <td>1</td>\n",
       "    </tr>\n",
       "    <tr>\n",
       "      <th>1</th>\n",
       "      <td>1</td>\n",
       "      <td>FLYNN: Hillary Clinton, Big Woman on Campus - ...</td>\n",
       "      <td>Daniel J. Flynn</td>\n",
       "      <td>Ever get the feeling your life circles the rou...</td>\n",
       "      <td>0</td>\n",
       "    </tr>\n",
       "    <tr>\n",
       "      <th>2</th>\n",
       "      <td>2</td>\n",
       "      <td>Why the Truth Might Get You Fired</td>\n",
       "      <td>Consortiumnews.com</td>\n",
       "      <td>Why the Truth Might Get You Fired October 29, ...</td>\n",
       "      <td>1</td>\n",
       "    </tr>\n",
       "    <tr>\n",
       "      <th>3</th>\n",
       "      <td>3</td>\n",
       "      <td>15 Civilians Killed In Single US Airstrike Hav...</td>\n",
       "      <td>Jessica Purkiss</td>\n",
       "      <td>Videos 15 Civilians Killed In Single US Airstr...</td>\n",
       "      <td>1</td>\n",
       "    </tr>\n",
       "    <tr>\n",
       "      <th>4</th>\n",
       "      <td>4</td>\n",
       "      <td>Iranian woman jailed for fictional unpublished...</td>\n",
       "      <td>Howard Portnoy</td>\n",
       "      <td>Print \\nAn Iranian woman has been sentenced to...</td>\n",
       "      <td>1</td>\n",
       "    </tr>\n",
       "  </tbody>\n",
       "</table>\n",
       "</div>"
      ],
      "text/plain": [
       "   id                                              title              author  \\\n",
       "0   0  House Dem Aide: We Didn’t Even See Comey’s Let...       Darrell Lucus   \n",
       "1   1  FLYNN: Hillary Clinton, Big Woman on Campus - ...     Daniel J. Flynn   \n",
       "2   2                  Why the Truth Might Get You Fired  Consortiumnews.com   \n",
       "3   3  15 Civilians Killed In Single US Airstrike Hav...     Jessica Purkiss   \n",
       "4   4  Iranian woman jailed for fictional unpublished...      Howard Portnoy   \n",
       "\n",
       "                                                text  label  \n",
       "0  House Dem Aide: We Didn’t Even See Comey’s Let...      1  \n",
       "1  Ever get the feeling your life circles the rou...      0  \n",
       "2  Why the Truth Might Get You Fired October 29, ...      1  \n",
       "3  Videos 15 Civilians Killed In Single US Airstr...      1  \n",
       "4  Print \\nAn Iranian woman has been sentenced to...      1  "
      ]
     },
     "execution_count": 5,
     "metadata": {},
     "output_type": "execute_result"
    }
   ],
   "source": [
    "data = pd.read_csv(\"./train.csv\")\n",
    "data.head()"
   ]
  },
  {
   "cell_type": "code",
   "execution_count": 6,
   "id": "ba161be5",
   "metadata": {},
   "outputs": [
    {
     "name": "stdout",
     "output_type": "stream",
     "text": [
      "<class 'pandas.core.frame.DataFrame'>\n",
      "RangeIndex: 20800 entries, 0 to 20799\n",
      "Data columns (total 5 columns):\n",
      " #   Column  Non-Null Count  Dtype \n",
      "---  ------  --------------  ----- \n",
      " 0   id      20800 non-null  int64 \n",
      " 1   title   20242 non-null  object\n",
      " 2   author  18843 non-null  object\n",
      " 3   text    20761 non-null  object\n",
      " 4   label   20800 non-null  int64 \n",
      "dtypes: int64(2), object(3)\n",
      "memory usage: 812.6+ KB\n"
     ]
    }
   ],
   "source": [
    "data.info()"
   ]
  },
  {
   "cell_type": "code",
   "execution_count": 7,
   "id": "e891e9f1",
   "metadata": {},
   "outputs": [
    {
     "data": {
      "text/html": [
       "<div>\n",
       "<style scoped>\n",
       "    .dataframe tbody tr th:only-of-type {\n",
       "        vertical-align: middle;\n",
       "    }\n",
       "\n",
       "    .dataframe tbody tr th {\n",
       "        vertical-align: top;\n",
       "    }\n",
       "\n",
       "    .dataframe thead th {\n",
       "        text-align: right;\n",
       "    }\n",
       "</style>\n",
       "<table border=\"1\" class=\"dataframe\">\n",
       "  <thead>\n",
       "    <tr style=\"text-align: right;\">\n",
       "      <th></th>\n",
       "      <th>title</th>\n",
       "      <th>label</th>\n",
       "    </tr>\n",
       "  </thead>\n",
       "  <tbody>\n",
       "    <tr>\n",
       "      <th>0</th>\n",
       "      <td>House Dem Aide: We Didn’t Even See Comey’s Let...</td>\n",
       "      <td>1</td>\n",
       "    </tr>\n",
       "    <tr>\n",
       "      <th>1</th>\n",
       "      <td>FLYNN: Hillary Clinton, Big Woman on Campus - ...</td>\n",
       "      <td>0</td>\n",
       "    </tr>\n",
       "    <tr>\n",
       "      <th>2</th>\n",
       "      <td>Why the Truth Might Get You Fired</td>\n",
       "      <td>1</td>\n",
       "    </tr>\n",
       "    <tr>\n",
       "      <th>3</th>\n",
       "      <td>15 Civilians Killed In Single US Airstrike Hav...</td>\n",
       "      <td>1</td>\n",
       "    </tr>\n",
       "    <tr>\n",
       "      <th>4</th>\n",
       "      <td>Iranian woman jailed for fictional unpublished...</td>\n",
       "      <td>1</td>\n",
       "    </tr>\n",
       "  </tbody>\n",
       "</table>\n",
       "</div>"
      ],
      "text/plain": [
       "                                               title  label\n",
       "0  House Dem Aide: We Didn’t Even See Comey’s Let...      1\n",
       "1  FLYNN: Hillary Clinton, Big Woman on Campus - ...      0\n",
       "2                  Why the Truth Might Get You Fired      1\n",
       "3  15 Civilians Killed In Single US Airstrike Hav...      1\n",
       "4  Iranian woman jailed for fictional unpublished...      1"
      ]
     },
     "execution_count": 7,
     "metadata": {},
     "output_type": "execute_result"
    }
   ],
   "source": [
    "data_sub = data[['title', 'label']]\n",
    "data_sub.head()"
   ]
  },
  {
   "cell_type": "code",
   "execution_count": 8,
   "id": "86ba9c34",
   "metadata": {},
   "outputs": [
    {
     "name": "stdout",
     "output_type": "stream",
     "text": [
      "<class 'pandas.core.frame.DataFrame'>\n",
      "RangeIndex: 20242 entries, 0 to 20241\n",
      "Data columns (total 3 columns):\n",
      " #   Column  Non-Null Count  Dtype \n",
      "---  ------  --------------  ----- \n",
      " 0   index   20242 non-null  int64 \n",
      " 1   title   20242 non-null  object\n",
      " 2   label   20242 non-null  int64 \n",
      "dtypes: int64(2), object(1)\n",
      "memory usage: 474.5+ KB\n"
     ]
    }
   ],
   "source": [
    "data_sub= data_sub.dropna()\n",
    "data_sub= data_sub.reset_index()\n",
    "data_sub.info()"
   ]
  },
  {
   "cell_type": "markdown",
   "id": "8e3a52ed",
   "metadata": {},
   "source": [
    "### Comparison of the number of documents having fake and real content"
   ]
  },
  {
   "cell_type": "code",
   "execution_count": 9,
   "id": "c4ac3f2e",
   "metadata": {},
   "outputs": [
    {
     "data": {
      "image/png": "[encoded data removed]",
      "text/plain": [
       "<Figure size 576x576 with 1 Axes>"
      ]
     },
     "metadata": {
      "needs_background": "light"
     },
     "output_type": "display_data"
    }
   ],
   "source": [
    "plt.figure(figsize=(8,8))\n",
    "sns.countplot(x='label', data=data_sub)\n",
    "plt.xlabel('Classifier Real or Fake')\n",
    "plt.ylabel('Count')\n",
    "plt.show()"
   ]
  },
  {
   "cell_type": "code",
   "execution_count": 10,
   "id": "c5c7357d",
   "metadata": {},
   "outputs": [
    {
     "data": {
      "text/html": [
       "<div>\n",
       "<style scoped>\n",
       "    .dataframe tbody tr th:only-of-type {\n",
       "        vertical-align: middle;\n",
       "    }\n",
       "\n",
       "    .dataframe tbody tr th {\n",
       "        vertical-align: top;\n",
       "    }\n",
       "\n",
       "    .dataframe thead th {\n",
       "        text-align: right;\n",
       "    }\n",
       "</style>\n",
       "<table border=\"1\" class=\"dataframe\">\n",
       "  <thead>\n",
       "    <tr style=\"text-align: right;\">\n",
       "      <th></th>\n",
       "      <th>index</th>\n",
       "      <th>title</th>\n",
       "    </tr>\n",
       "  </thead>\n",
       "  <tbody>\n",
       "    <tr>\n",
       "      <th>0</th>\n",
       "      <td>0</td>\n",
       "      <td>House Dem Aide: We Didn’t Even See Comey’s Let...</td>\n",
       "    </tr>\n",
       "    <tr>\n",
       "      <th>1</th>\n",
       "      <td>1</td>\n",
       "      <td>FLYNN: Hillary Clinton, Big Woman on Campus - ...</td>\n",
       "    </tr>\n",
       "    <tr>\n",
       "      <th>2</th>\n",
       "      <td>2</td>\n",
       "      <td>Why the Truth Might Get You Fired</td>\n",
       "    </tr>\n",
       "    <tr>\n",
       "      <th>3</th>\n",
       "      <td>3</td>\n",
       "      <td>15 Civilians Killed In Single US Airstrike Hav...</td>\n",
       "    </tr>\n",
       "    <tr>\n",
       "      <th>4</th>\n",
       "      <td>4</td>\n",
       "      <td>Iranian woman jailed for fictional unpublished...</td>\n",
       "    </tr>\n",
       "  </tbody>\n",
       "</table>\n",
       "</div>"
      ],
      "text/plain": [
       "   index                                              title\n",
       "0      0  House Dem Aide: We Didn’t Even See Comey’s Let...\n",
       "1      1  FLYNN: Hillary Clinton, Big Woman on Campus - ...\n",
       "2      2                  Why the Truth Might Get You Fired\n",
       "3      3  15 Civilians Killed In Single US Airstrike Hav...\n",
       "4      4  Iranian woman jailed for fictional unpublished..."
      ]
     },
     "execution_count": 10,
     "metadata": {},
     "output_type": "execute_result"
    }
   ],
   "source": [
    "data_subset = data_sub.drop('label', axis=1)\n",
    "data_subset.head()"
   ]
  },
  {
   "cell_type": "markdown",
   "id": "7aa33825",
   "metadata": {},
   "source": [
    "### Removing the stop words and stemming the words in the content using the library functions"
   ]
  },
  {
   "cell_type": "code",
   "execution_count": 11,
   "id": "6fa70b16",
   "metadata": {},
   "outputs": [],
   "source": [
    "stemmer = PorterStemmer() \n",
    "\n",
    "corpus=[]\n",
    "for i in range(len(data_subset)):\n",
    "    review= re.sub('[^A-Za-z]',' ',data_subset['title'][i])\n",
    "    review= review.lower()\n",
    "    review= review.split() #get list of words\n",
    "    review= [stemmer.stem(word) for word in review if not word in set(stopwords.words('english'))]\n",
    "    review= ' '.join(review)\n",
    "    corpus.append(review)"
   ]
  },
  {
   "cell_type": "markdown",
   "id": "d8924633",
   "metadata": {},
   "source": [
    "### Using countVectorizer to convert the test to numbers using set of weights and logic to perform calculations "
   ]
  },
  {
   "cell_type": "code",
   "execution_count": 10,
   "id": "08def1f5",
   "metadata": {},
   "outputs": [
    {
     "data": {
      "text/plain": [
       "array([[0, 0, 0, ..., 0, 0, 0],\n",
       "       [0, 0, 0, ..., 0, 0, 0],\n",
       "       [0, 0, 0, ..., 0, 0, 0],\n",
       "       ...,\n",
       "       [0, 0, 0, ..., 0, 0, 0],\n",
       "       [0, 0, 0, ..., 0, 0, 0],\n",
       "       [0, 0, 0, ..., 0, 0, 0]], dtype=int64)"
      ]
     },
     "execution_count": 10,
     "metadata": {},
     "output_type": "execute_result"
    }
   ],
   "source": [
    "cv = CountVectorizer(ngram_range =(2,2), max_features = 20000)\n",
    "X = cv.fit_transform(corpus).toarray() # matrix creation- words as columns, sentences as rows\n",
    "X"
   ]
  },
  {
   "cell_type": "markdown",
   "id": "b0e6d586",
   "metadata": {},
   "source": [
    "### Using test train split to divide the dataset into training and testing set"
   ]
  },
  {
   "cell_type": "code",
   "execution_count": 11,
   "id": "9eddc76b",
   "metadata": {},
   "outputs": [],
   "source": [
    "X_train, X_test, y_train, y_test = train_test_split(X, data_sub['label'], test_size =0.25, random_state =0)"
   ]
  },
  {
   "cell_type": "markdown",
   "id": "34abef8c",
   "metadata": {},
   "source": [
    "### Using logistic regression to train the data and test of the document contains fake content"
   ]
  },
  {
   "cell_type": "code",
   "execution_count": 12,
   "id": "fe2e4e2d",
   "metadata": {},
   "outputs": [
    {
     "data": {
      "text/plain": [
       "LogisticRegression()"
      ]
     },
     "execution_count": 12,
     "metadata": {},
     "output_type": "execute_result"
    }
   ],
   "source": [
    "lr_classifier = LogisticRegression()\n",
    "lr_classifier.fit(X_train, y_train)"
   ]
  },
  {
   "cell_type": "code",
   "execution_count": 13,
   "id": "b0580fb4",
   "metadata": {},
   "outputs": [
    {
     "data": {
      "text/plain": [
       "array([[2006,  590],\n",
       "       [  60, 2405]], dtype=int64)"
      ]
     },
     "execution_count": 13,
     "metadata": {},
     "output_type": "execute_result"
    }
   ],
   "source": [
    "lr_y_pred = lr_classifier.predict(X_test)\n",
    "confusion_mat = confusion_matrix(y_test, lr_y_pred)\n",
    "confusion_mat"
   ]
  },
  {
   "cell_type": "code",
   "execution_count": 14,
   "id": "b2c21466",
   "metadata": {},
   "outputs": [
    {
     "name": "stdout",
     "output_type": "stream",
     "text": [
      "Accuracy of Logistic Regression on Count Vectorizer data 87.15668840150168\n"
     ]
    }
   ],
   "source": [
    "accuracy= accuracy_score(y_test, lr_y_pred)\n",
    "print(\"Accuracy of Logistic Regression on Count Vectorizer data\",accuracy*100)"
   ]
  },
  {
   "cell_type": "code",
   "execution_count": 15,
   "id": "21ce121f",
   "metadata": {},
   "outputs": [
    {
     "name": "stdout",
     "output_type": "stream",
     "text": [
      "              precision    recall  f1-score   support\n",
      "\n",
      "           0       0.97      0.77      0.86      2596\n",
      "           1       0.80      0.98      0.88      2465\n",
      "\n",
      "    accuracy                           0.87      5061\n",
      "   macro avg       0.89      0.87      0.87      5061\n",
      "weighted avg       0.89      0.87      0.87      5061\n",
      "\n"
     ]
    }
   ],
   "source": [
    "from sklearn.metrics import classification_report\n",
    "print(classification_report(y_test, lr_y_pred))"
   ]
  },
  {
   "cell_type": "markdown",
   "id": "33a10e8f",
   "metadata": {},
   "source": [
    "### Using Naive Bayes to train the data and test of the document contains fake content"
   ]
  },
  {
   "cell_type": "code",
   "execution_count": 16,
   "id": "01f712ef",
   "metadata": {},
   "outputs": [
    {
     "data": {
      "text/plain": [
       "GaussianNB()"
      ]
     },
     "execution_count": 16,
     "metadata": {},
     "output_type": "execute_result"
    }
   ],
   "source": [
    "from sklearn.naive_bayes import GaussianNB\n",
    "nb_classifier = GaussianNB()\n",
    "nb_classifier.fit(X_train, y_train)"
   ]
  },
  {
   "cell_type": "code",
   "execution_count": 17,
   "id": "8440a009",
   "metadata": {},
   "outputs": [
    {
     "data": {
      "text/plain": [
       "array([[2434,  162],\n",
       "       [1167, 1298]], dtype=int64)"
      ]
     },
     "execution_count": 17,
     "metadata": {},
     "output_type": "execute_result"
    }
   ],
   "source": [
    "nb_y_pred = nb_classifier.predict(X_test)\n",
    "confusion_mat = confusion_matrix(y_test, nb_y_pred)\n",
    "confusion_mat"
   ]
  },
  {
   "cell_type": "code",
   "execution_count": 18,
   "id": "ba8ba346",
   "metadata": {},
   "outputs": [
    {
     "name": "stdout",
     "output_type": "stream",
     "text": [
      "Accuracy of Naive Bayes on Count Vectorizer data 73.74036751630113\n"
     ]
    }
   ],
   "source": [
    "accuracy= accuracy_score(y_test, nb_y_pred)\n",
    "print(\"Accuracy of Naive Bayes on Count Vectorizer data\",accuracy*100)"
   ]
  },
  {
   "cell_type": "code",
   "execution_count": 19,
   "id": "817f0b04",
   "metadata": {},
   "outputs": [
    {
     "name": "stdout",
     "output_type": "stream",
     "text": [
      "              precision    recall  f1-score   support\n",
      "\n",
      "           0       0.68      0.94      0.79      2596\n",
      "           1       0.89      0.53      0.66      2465\n",
      "\n",
      "    accuracy                           0.74      5061\n",
      "   macro avg       0.78      0.73      0.72      5061\n",
      "weighted avg       0.78      0.74      0.73      5061\n",
      "\n"
     ]
    }
   ],
   "source": [
    "from sklearn.metrics import classification_report\n",
    "print(classification_report(y_test, nb_y_pred))"
   ]
  },
  {
   "cell_type": "markdown",
   "id": "efad15fc",
   "metadata": {},
   "source": [
    "### Using Random Forest Classifier to train the data and test of the document contains fake content"
   ]
  },
  {
   "cell_type": "code",
   "execution_count": 20,
   "id": "145b67a6",
   "metadata": {},
   "outputs": [
    {
     "data": {
      "text/plain": [
       "RandomForestClassifier()"
      ]
     },
     "execution_count": 20,
     "metadata": {},
     "output_type": "execute_result"
    }
   ],
   "source": [
    "from sklearn.ensemble import RandomForestClassifier\n",
    "rf_classifier = RandomForestClassifier(n_estimators = 100)\n",
    "rf_classifier.fit(X_train, y_train)"
   ]
  },
  {
   "cell_type": "code",
   "execution_count": 21,
   "id": "46aa5ecc",
   "metadata": {},
   "outputs": [
    {
     "data": {
      "text/plain": [
       "array([[2024,  572],\n",
       "       [  92, 2373]], dtype=int64)"
      ]
     },
     "execution_count": 21,
     "metadata": {},
     "output_type": "execute_result"
    }
   ],
   "source": [
    "rf_y_pred = rf_classifier.predict(X_test)\n",
    "confusion_mat = confusion_matrix(y_test, rf_y_pred)\n",
    "confusion_mat"
   ]
  },
  {
   "cell_type": "code",
   "execution_count": 22,
   "id": "e302ff70",
   "metadata": {},
   "outputs": [
    {
     "name": "stdout",
     "output_type": "stream",
     "text": [
      "Accuracy of Random Forest Classifier on Count Vectorizer data 86.88006322861095\n"
     ]
    }
   ],
   "source": [
    "accuracy= accuracy_score(y_test, rf_y_pred)\n",
    "print(\"Accuracy of Random Forest Classifier on Count Vectorizer data\",accuracy*100)"
   ]
  },
  {
   "cell_type": "code",
   "execution_count": 23,
   "id": "8574e747",
   "metadata": {},
   "outputs": [
    {
     "name": "stdout",
     "output_type": "stream",
     "text": [
      "              precision    recall  f1-score   support\n",
      "\n",
      "           0       0.96      0.78      0.86      2596\n",
      "           1       0.81      0.96      0.88      2465\n",
      "\n",
      "    accuracy                           0.87      5061\n",
      "   macro avg       0.88      0.87      0.87      5061\n",
      "weighted avg       0.88      0.87      0.87      5061\n",
      "\n"
     ]
    }
   ],
   "source": [
    "from sklearn.metrics import classification_report\n",
    "print(classification_report(y_test, rf_y_pred))"
   ]
  },
  {
   "cell_type": "markdown",
   "id": "01e11262",
   "metadata": {},
   "source": [
    "### Using TF-IDF vectorizer to convert the test to numbers using set of weights and logic to perform calculations"
   ]
  },
  {
   "cell_type": "code",
   "execution_count": 55,
   "id": "ec991000",
   "metadata": {},
   "outputs": [
    {
     "data": {
      "text/plain": [
       "array([[0., 0., 0., ..., 0., 0., 0.],\n",
       "       [0., 0., 0., ..., 0., 0., 0.],\n",
       "       [0., 0., 0., ..., 0., 0., 0.],\n",
       "       ...,\n",
       "       [0., 0., 0., ..., 0., 0., 0.],\n",
       "       [0., 0., 0., ..., 0., 0., 0.],\n",
       "       [0., 0., 0., ..., 0., 0., 0.]])"
      ]
     },
     "execution_count": 55,
     "metadata": {},
     "output_type": "execute_result"
    }
   ],
   "source": [
    "vectorizer = TfidfVectorizer(norm = False, smooth_idf = False)\n",
    "X=vectorizer.fit_transform(corpus).toarray()\n",
    "X"
   ]
  },
  {
   "cell_type": "markdown",
   "id": "6f28518a",
   "metadata": {},
   "source": [
    "### Dividing the training and testing data"
   ]
  },
  {
   "cell_type": "code",
   "execution_count": 56,
   "id": "70ea188e",
   "metadata": {},
   "outputs": [],
   "source": [
    "X_train, X_test, y_train, y_test = train_test_split(X, data_sub['label'], test_size =0.25, random_state =0)"
   ]
  },
  {
   "cell_type": "markdown",
   "id": "4e14bef9",
   "metadata": {},
   "source": [
    "### Using logistic regression to train the data and test of the document contains fake content"
   ]
  },
  {
   "cell_type": "code",
   "execution_count": 57,
   "id": "ed4d8c9c",
   "metadata": {},
   "outputs": [
    {
     "data": {
      "text/plain": [
       "LogisticRegression()"
      ]
     },
     "execution_count": 57,
     "metadata": {},
     "output_type": "execute_result"
    }
   ],
   "source": [
    "lr_classifier = LogisticRegression()\n",
    "lr_classifier.fit(X_train, y_train)"
   ]
  },
  {
   "cell_type": "code",
   "execution_count": 58,
   "id": "b3a3af18",
   "metadata": {},
   "outputs": [
    {
     "data": {
      "text/plain": [
       "array([[2373,  223],\n",
       "       [ 135, 2330]], dtype=int64)"
      ]
     },
     "execution_count": 58,
     "metadata": {},
     "output_type": "execute_result"
    }
   ],
   "source": [
    "lr_y_pred = lr_classifier.predict(X_test)\n",
    "confusion_mat = confusion_matrix(y_test, lr_y_pred)\n",
    "confusion_mat"
   ]
  },
  {
   "cell_type": "code",
   "execution_count": 59,
   "id": "c534bf51",
   "metadata": {},
   "outputs": [
    {
     "name": "stdout",
     "output_type": "stream",
     "text": [
      "Accuracy of Logistic Regression on TF-IDF Vectorizer data 92.92629915036554\n"
     ]
    }
   ],
   "source": [
    "accuracy= accuracy_score(y_test, lr_y_pred)\n",
    "print(\"Accuracy of Logistic Regression on TF-IDF Vectorizer data\",accuracy*100)"
   ]
  },
  {
   "cell_type": "code",
   "execution_count": 60,
   "id": "f6855713",
   "metadata": {},
   "outputs": [
    {
     "name": "stdout",
     "output_type": "stream",
     "text": [
      "              precision    recall  f1-score   support\n",
      "\n",
      "           0       0.95      0.91      0.93      2596\n",
      "           1       0.91      0.95      0.93      2465\n",
      "\n",
      "    accuracy                           0.93      5061\n",
      "   macro avg       0.93      0.93      0.93      5061\n",
      "weighted avg       0.93      0.93      0.93      5061\n",
      "\n"
     ]
    }
   ],
   "source": [
    "from sklearn.metrics import classification_report\n",
    "print(classification_report(y_test, lr_y_pred))"
   ]
  },
  {
   "cell_type": "markdown",
   "id": "ad36271c",
   "metadata": {},
   "source": [
    "### Using Naive Bayes to train the data and test of the document contains fake content"
   ]
  },
  {
   "cell_type": "code",
   "execution_count": 61,
   "id": "76d60ed6",
   "metadata": {},
   "outputs": [
    {
     "data": {
      "text/plain": [
       "GaussianNB()"
      ]
     },
     "execution_count": 61,
     "metadata": {},
     "output_type": "execute_result"
    }
   ],
   "source": [
    "from sklearn.naive_bayes import GaussianNB\n",
    "nb_classifier = GaussianNB()\n",
    "nb_classifier.fit(X_train, y_train)"
   ]
  },
  {
   "cell_type": "code",
   "execution_count": 62,
   "id": "b3ee7c9c",
   "metadata": {},
   "outputs": [
    {
     "data": {
      "text/plain": [
       "array([[2300,  296],\n",
       "       [1522,  943]], dtype=int64)"
      ]
     },
     "execution_count": 62,
     "metadata": {},
     "output_type": "execute_result"
    }
   ],
   "source": [
    "nb_y_pred = nb_classifier.predict(X_test)\n",
    "confusion_mat = confusion_matrix(y_test, nb_y_pred)\n",
    "confusion_mat"
   ]
  },
  {
   "cell_type": "code",
   "execution_count": 63,
   "id": "582f8fd1",
   "metadata": {},
   "outputs": [
    {
     "name": "stdout",
     "output_type": "stream",
     "text": [
      "Accuracy of Naive Bayes on TF-IDF Vectorizer data 64.07824540604624\n"
     ]
    }
   ],
   "source": [
    "accuracy= accuracy_score(y_test, nb_y_pred)\n",
    "print(\"Accuracy of Naive Bayes on TF-IDF Vectorizer data\",accuracy*100)"
   ]
  },
  {
   "cell_type": "code",
   "execution_count": 64,
   "id": "350fb17d",
   "metadata": {},
   "outputs": [
    {
     "name": "stdout",
     "output_type": "stream",
     "text": [
      "              precision    recall  f1-score   support\n",
      "\n",
      "           0       0.60      0.89      0.72      2596\n",
      "           1       0.76      0.38      0.51      2465\n",
      "\n",
      "    accuracy                           0.64      5061\n",
      "   macro avg       0.68      0.63      0.61      5061\n",
      "weighted avg       0.68      0.64      0.62      5061\n",
      "\n"
     ]
    }
   ],
   "source": [
    "from sklearn.metrics import classification_report\n",
    "print(classification_report(y_test, nb_y_pred))"
   ]
  },
  {
   "cell_type": "markdown",
   "id": "a59a9c34",
   "metadata": {},
   "source": [
    "### Using Random Forest Classifier to train the data and test of the document contains fake content"
   ]
  },
  {
   "cell_type": "code",
   "execution_count": 65,
   "id": "1b8cb42c",
   "metadata": {},
   "outputs": [
    {
     "data": {
      "text/plain": [
       "RandomForestClassifier()"
      ]
     },
     "execution_count": 65,
     "metadata": {},
     "output_type": "execute_result"
    }
   ],
   "source": [
    "from sklearn.ensemble import RandomForestClassifier\n",
    "rf_classifier = RandomForestClassifier(n_estimators = 100)\n",
    "rf_classifier.fit(X_train, y_train)"
   ]
  },
  {
   "cell_type": "code",
   "execution_count": 66,
   "id": "7b57db7d",
   "metadata": {},
   "outputs": [
    {
     "data": {
      "text/plain": [
       "array([[2322,  274],\n",
       "       [  47, 2418]], dtype=int64)"
      ]
     },
     "execution_count": 66,
     "metadata": {},
     "output_type": "execute_result"
    }
   ],
   "source": [
    "rf_y_pred = rf_classifier.predict(X_test)\n",
    "confusion_mat = confusion_matrix(y_test, rf_y_pred)\n",
    "confusion_mat"
   ]
  },
  {
   "cell_type": "code",
   "execution_count": 67,
   "id": "8a43430f",
   "metadata": {},
   "outputs": [
    {
     "name": "stdout",
     "output_type": "stream",
     "text": [
      "Accuracy of Random Forest Classifier on TF-IDF Vectorizer data 93.6573799644339\n"
     ]
    }
   ],
   "source": [
    "accuracy= accuracy_score(y_test, rf_y_pred)\n",
    "print(\"Accuracy of Random Forest Classifier on TF-IDF Vectorizer data\",accuracy*100)"
   ]
  },
  {
   "cell_type": "code",
   "execution_count": 68,
   "id": "f0c57291",
   "metadata": {},
   "outputs": [
    {
     "name": "stdout",
     "output_type": "stream",
     "text": [
      "              precision    recall  f1-score   support\n",
      "\n",
      "           0       0.98      0.89      0.94      2596\n",
      "           1       0.90      0.98      0.94      2465\n",
      "\n",
      "    accuracy                           0.94      5061\n",
      "   macro avg       0.94      0.94      0.94      5061\n",
      "weighted avg       0.94      0.94      0.94      5061\n",
      "\n"
     ]
    }
   ],
   "source": [
    "from sklearn.metrics import classification_report\n",
    "print(classification_report(y_test, rf_y_pred))"
   ]
  },
  {
   "cell_type": "code",
   "execution_count": null,
   "id": "dfe10859",
   "metadata": {},
   "outputs": [],
   "source": []
  }
 ],
 "metadata": {
  "kernelspec": {
   "display_name": "Python 3 (ipykernel)",
   "language": "python",
   "name": "python3"
  },
  "language_info": {
   "codemirror_mode": {
    "name": "ipython",
    "version": 3
   },
   "file_extension": ".py",
   "mimetype": "text/x-python",
   "name": "python",
   "nbconvert_exporter": "python",
   "pygments_lexer": "ipython3",
   "version": "3.9.12"
  },
  "vscode": {
   "interpreter": {
    "hash": "f6246b25e200e4c5124e3e61789ac81350562f0761bbcf92ad9e48654207659c"
   }
  }
 },
 "nbformat": 4,
 "nbformat_minor": 5
}
